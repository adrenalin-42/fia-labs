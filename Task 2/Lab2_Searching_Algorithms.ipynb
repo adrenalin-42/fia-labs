{
 "cells": [
  {
   "cell_type": "markdown",
   "id": "7d252a8d",
   "metadata": {
    "id": "7d252a8d"
   },
   "source": [
    "***FCIM.FIA - Fundamentals of Artificial Intelligence***\n",
    "\n",
    "> **Lab 2:** *Searching Algorithms* \\\n",
    "> **Performed by:** *Dumitru Moraru*, group *FAF-212* \\\n",
    "> **Verified by:** Elena Graur, asist. univ."
   ]
  },
  {
   "cell_type": "markdown",
   "id": "BPiGwyyGNsHh",
   "metadata": {
    "id": "BPiGwyyGNsHh"
   },
   "source": [
    "Imports and Utils"
   ]
  },
  {
   "cell_type": "code",
   "execution_count": null,
   "id": "533fd9fa",
   "metadata": {
    "ExecuteTime": {
     "end_time": "2022-01-23T09:47:05.838671Z",
     "start_time": "2022-01-23T09:47:05.834860Z"
    },
    "id": "533fd9fa"
   },
   "outputs": [],
   "source": [
    "import random\n",
    "import heapq"
   ]
  },
  {
   "cell_type": "markdown",
   "id": "7146ed9b",
   "metadata": {
    "id": "7146ed9b"
   },
   "source": [
    "# Task 1\n",
    "The maze is generated using Depth-First Search (DFS) with a randomized approach. The grid is initialized with walls ('|'), and DFS carves paths by moving in random directions. The generated maze contains:\n",
    "1) Start point ('S') at the top-left\n",
    "2) End point ('E') at the bottom-right"
   ]
  },
  {
   "cell_type": "code",
   "execution_count": null,
   "id": "1c08cab6",
   "metadata": {},
   "outputs": [],
   "source": [
    "import random\n",
    "\n",
    "def generate_maze(rows, cols):\n",
    "    \"\"\"\n",
    "    Generate a random perfect maze using Randomized Depth-First Search algorithm.\n",
    "    \n",
    "    Args:\n",
    "        rows (int): Number of rows in the maze\n",
    "        cols (int): Number of columns in the maze\n",
    "    \n",
    "    Returns:\n",
    "        list: 2D grid representing the maze where:\n",
    "            '|' = Wall\n",
    "            '.' = Path\n",
    "            'S' = Start\n",
    "            'E' = End\n",
    "    \"\"\"\n",
    "    # Initialize the grid with walls\n",
    "    maze = [['|' for _ in range(cols)] for _ in range(rows)]\n",
    "    \n",
    "    # Randomized Depth-First Search (DFS) for maze generation\n",
    "    def dfs(x, y):\n",
    "        \"\"\"\n",
    "        Recursive DFS function to carve paths through the maze.\n",
    "        Marks the current cell as a path and recursively explores unvisited neighbors.\n",
    "        \n",
    "        Args:\n",
    "            x (int): Current row position\n",
    "            y (int): Current column position\n",
    "        \"\"\"\n",
    "        maze[x][y] = '.'  # Mark current cell as path\n",
    "        # Define four directions: right, down, left, up (moving 2 steps to jump over walls)\n",
    "        directions = [(0, 2), (2, 0), (0, -2), (-2, 0)]\n",
    "        random.shuffle(directions)  # Randomize direction order for non-predictable mazes\n",
    "        \n",
    "        for dx, dy in directions:\n",
    "            nx, ny = x + dx, y + dy  # Calculate new position\n",
    "            # Check if the new position is within bounds and still a wall\n",
    "            if 1 <= nx < rows-1 and 1 <= ny < cols-1 and maze[nx][ny] == '|':\n",
    "                # Remove the wall between current cell and new cell\n",
    "                maze[x + dx//2][y + dy//2] = '.'\n",
    "                dfs(nx, ny)  # Recursively continue from the new cell\n",
    "    \n",
    "    # Start from top-left corner (with 1-cell buffer from the edge)\n",
    "    maze[1][1] = '.'\n",
    "    dfs(1, 1)\n",
    "    \n",
    "    # Set start and end points\n",
    "    maze[1][1] = 'S'  # Start at top-left (with 1-cell buffer)\n",
    "    maze[rows-2][cols-2] = 'E'  # End at bottom-right (with 1-cell buffer)\n",
    "    return maze"
   ]
  },
  {
   "cell_type": "markdown",
   "id": "c0b08ea7",
   "metadata": {},
   "source": [
    "The maze is initialized as a grid filled with walls ('|').\n",
    "The DFS algorithm starts at (1,1), randomly choosing a direction and carving a passage while ensuring no loops.\n",
    "The start position ('S') is placed at (1,1), and the exit ('E') at (rows-2, cols-2)."
   ]
  },
  {
   "cell_type": "markdown",
   "id": "0938e3e4",
   "metadata": {
    "id": "0938e3e4"
   },
   "source": [
    "# Task 2\n",
    "The `heuristic` function used in A* is the Manhattan distance, which estimates the cost from the current position to the end.The function `find_path()` is responsible for solving the maze using either Dijkstra's Algorithm or A*.\n",
    "1) The start ('S') and end ('E') positions are identified.\n",
    "2) The priority queue (min-heap) is used to keep track of the lowest-cost path.\n",
    "3) The algorithm expands the neighboring cells and updates the cost of reaching them.\n",
    "4) A vs. Dijkstra:\n",
    "    * Dijkstra uses the actual cost (`new_cost`).\n",
    "    * A* uses `new_cost + heuristic()`, making it more efficient.\n",
    "5) The shortest path is reconstructed using the `came_from` dictionary."
   ]
  },
  {
   "cell_type": "code",
   "execution_count": null,
   "id": "6b0859a4",
   "metadata": {
    "id": "6b0859a4"
   },
   "outputs": [],
   "source": [
    "import heapq\n",
    "\n",
    "def heuristic(a, b):\n",
    "    \"\"\"\n",
    "    Calculate the Manhattan distance heuristic between two points.\n",
    "    Used by A* algorithm to estimate distance to goal.\n",
    "    \n",
    "    Args:\n",
    "        a (tuple): First point (row, col)\n",
    "        b (tuple): Second point (row, col)\n",
    "    \n",
    "    Returns:\n",
    "        int: Manhattan distance between points\n",
    "    \"\"\"\n",
    "    return abs(a[0] - b[0]) + abs(a[1] - b[1])\n",
    "\n",
    "def find_path(maze, algorithm):\n",
    "    \"\"\"\n",
    "    Find the shortest path through the maze using either Dijkstra's or A* algorithm.\n",
    "    Modifies the maze in-place to mark the solution path with '*'.\n",
    "    \n",
    "    Args:\n",
    "        maze (list): 2D grid representing the maze\n",
    "        algorithm (str): \"Dijkstra\" or \"A*\" to specify which algorithm to use\n",
    "    \"\"\"\n",
    "    rows, cols = len(maze), len(maze[0])\n",
    "    start, end = None, None\n",
    "    \n",
    "    # Locate start and end positions in the maze\n",
    "    for r in range(rows):\n",
    "        for c in range(cols):\n",
    "            if maze[r][c] == 'S':\n",
    "                start = (r, c)\n",
    "            elif maze[r][c] == 'E':\n",
    "                end = (r, c)\n",
    "    \n",
    "    # Implementation for both Dijkstra & A* Algorithm\n",
    "    # Uses priority queue (via heapq) to always process the node with lowest cost first\n",
    "    frontier = [(0, start)]  # (priority, position)\n",
    "    came_from = {start: None}  # Track path for reconstruction\n",
    "    cost_so_far = {start: 0}  # Track cost to reach each cell\n",
    "    \n",
    "    while frontier:\n",
    "        # Get the cell with lowest priority from frontier\n",
    "        current_cost, current = heapq.heappop(frontier)\n",
    "        \n",
    "        # If we've reached the end, stop searching\n",
    "        if current == end:\n",
    "            break\n",
    "        \n",
    "        # Explore all four adjacent cells (up, down, left, right)\n",
    "        for dx, dy in [(-1, 0), (1, 0), (0, -1), (0, 1)]:\n",
    "            neighbor = (current[0] + dx, current[1] + dy)\n",
    "            \n",
    "            # Check if neighbor is valid (within bounds and not a wall)\n",
    "            if 0 <= neighbor[0] < rows and 0 <= neighbor[1] < cols and maze[neighbor[0]][neighbor[1]] != '|':\n",
    "                # Calculate new cost to this neighbor\n",
    "                new_cost = cost_so_far[current] + 1\n",
    "                \n",
    "                # If this is a new cell or we found a better path to it\n",
    "                if neighbor not in cost_so_far or new_cost < cost_so_far[neighbor]:\n",
    "                    cost_so_far[neighbor] = new_cost\n",
    "                    \n",
    "                    # Calculate priority based on algorithm choice:\n",
    "                    # Dijkstra: just the cost so far\n",
    "                    # A*: cost so far + heuristic (estimated distance to goal)\n",
    "                    priority = new_cost if algorithm == \"Dijkstra\" else new_cost + heuristic(neighbor, end)\n",
    "                    \n",
    "                    heapq.heappush(frontier, (priority, neighbor))\n",
    "                    came_from[neighbor] = current\n",
    "    \n",
    "    # Reconstruct and mark the solution path\n",
    "    current = end\n",
    "    while current and current != start:\n",
    "        maze[current[0]][current[1]] = '*'\n",
    "        current = came_from.get(current, None)\n",
    "    \n",
    "    # Re-mark start and end points (they might have been overwritten)\n",
    "    maze[start[0]][start[1]] = 'S'\n",
    "    maze[end[0]][end[1]] = 'E'"
   ]
  },
  {
   "cell_type": "markdown",
   "id": "3f67a3d5",
   "metadata": {
    "id": "3f67a3d5"
   },
   "source": [
    "# Task 3\n",
    "The `main()` function generates a maze and solves it using both algorithms.\n",
    "A 15x15 maze is generated.\n",
    "The maze is solved using A*, displaying the shortest path.\n",
    "The maze is solved using Dijkstra, displaying the path found.\n",
    "The output shows the maze before and after pathfinding."
   ]
  },
  {
   "cell_type": "code",
   "execution_count": null,
   "id": "046623ad",
   "metadata": {
    "id": "046623ad"
   },
   "outputs": [],
   "source": [
    "def main():\n",
    "    \"\"\"\n",
    "    Main function to run the maze generation and solving.\n",
    "    \"\"\"\n",
    "    # Create a maze of size 15x30\n",
    "    rows, cols = 15, 30\n",
    "    maze = generate_maze(rows, cols)\n",
    "    print(\"Generated Maze:\")\n",
    "    print_maze(maze)\n",
    "    \n",
    "    # Solve the maze using A* algorithm\n",
    "    print(\"Solving with A*:\")\n",
    "    astar_maze = [row[:] for row in maze]  # Create a deep copy of the maze\n",
    "    find_path(astar_maze, \"A*\")\n",
    "    print_maze(astar_maze)\n",
    "    \n",
    "    # Solve the maze using Dijkstra's algorithm\n",
    "    print(\"Solving with Dijkstra:\")\n",
    "    dijkstra_maze = [row[:] for row in maze]  # Create a deep copy of the maze\n",
    "    find_path(dijkstra_maze, \"Dijkstra\")\n",
    "    print_maze(dijkstra_maze)\n",
    "\n",
    "if __name__ == \"__main__\":\n",
    "    main()"
   ]
  },
  {
   "cell_type": "markdown",
   "id": "0e29d59a",
   "metadata": {
    "id": "0e29d59a"
   },
   "source": [
    "# Conclusions:\n",
    "This lab successfully implemented maze generation using Depth-First Search and pathfinding using Dijkstra's Algorithm and A*.\n",
    "\n",
    "* DFS created a solvable maze with randomized paths.\n",
    "* Dijkstra and A* found the shortest path from 'S' to 'E'.\n",
    "* A* performed better because it uses heuristics to guide the search."
   ]
  },
  {
   "cell_type": "markdown",
   "id": "zwGzGeqmzU-l",
   "metadata": {
    "id": "zwGzGeqmzU-l"
   },
   "source": [
    "# Bibliography:"
   ]
  },
  {
   "cell_type": "markdown",
   "id": "5DrArOXRzWet",
   "metadata": {
    "id": "5DrArOXRzWet"
   },
   "source": [
    "1) https://www.javatpoint.com/mini-max-algorithm-in-ai\n",
    "2) https://medium.com/@aaronbrennan.brennan/minimax-algorithm-and-alpha-beta-pruning-646beb01566c\n",
    "3) https://en.wikipedia.org/wiki/Iterative_deepening_depth-first_search\n",
    "4) https://stackoverflow.com/questions/20009796/transposition-tables\n",
    "5) https://www.codecademy.com/resources/docs/ai/search-algorithms/a-star-search"
   ]
  }
 ],
 "metadata": {
  "colab": {
   "provenance": []
  },
  "kernelspec": {
   "display_name": "Python 3 (ipykernel)",
   "language": "python",
   "name": "python3"
  },
  "language_info": {
   "codemirror_mode": {
    "name": "ipython",
    "version": 3
   },
   "file_extension": ".py",
   "mimetype": "text/x-python",
   "name": "python",
   "nbconvert_exporter": "python",
   "pygments_lexer": "ipython3",
   "version": "3.12.10"
  },
  "toc": {
   "base_numbering": 1,
   "nav_menu": {},
   "number_sections": true,
   "sideBar": true,
   "skip_h1_title": false,
   "title_cell": "Table of Contents",
   "title_sidebar": "Contents",
   "toc_cell": false,
   "toc_position": {},
   "toc_section_display": true,
   "toc_window_display": false
  }
 },
 "nbformat": 4,
 "nbformat_minor": 5
}
