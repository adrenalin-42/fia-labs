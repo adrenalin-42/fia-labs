{
 "cells": [
  {
   "cell_type": "markdown",
   "id": "7d252a8d",
   "metadata": {
    "id": "7d252a8d"
   },
   "source": [
    "***FCIM.FIA - Fundamentals of Artificial Intelligence***\n",
    "\n",
    "> **Lab 1:** *Expert Systems* \\\n",
    "> **Performed by:** *Dumitru Moraru*, group *FAF-212* \\\n",
    "> **Verified by:** Elena Graur, asist. univ."
   ]
  },
  {
   "cell_type": "markdown",
   "id": "BPiGwyyGNsHh",
   "metadata": {
    "id": "BPiGwyyGNsHh"
   },
   "source": [
    "Imports and Utils"
   ]
  },
  {
   "cell_type": "code",
   "execution_count": null,
   "id": "533fd9fa",
   "metadata": {
    "ExecuteTime": {
     "end_time": "2022-01-23T09:47:05.838671Z",
     "start_time": "2022-01-23T09:47:05.834860Z"
    },
    "id": "533fd9fa"
   },
   "outputs": [],
   "source": [
    "from random import randint\n",
    "from rules import *\n",
    "from rules_example_zookeeper import *\n",
    "from production import *\n",
    "from utils import *"
   ]
  },
  {
   "cell_type": "markdown",
   "id": "7146ed9b",
   "metadata": {
    "id": "7146ed9b"
   },
   "source": [
    "# Task 1\n",
    "To develop the expert system, I began by defining the knowledge base as a hierarchical goal tree. The system is designed to reach one of six primary conclusions: `Earth Business Executive`, `Earth Adventure Tourist`, `Earth Academic`, `Mars Colonist`, `Belt Miner`, and `Loonie`.\n",
    "\n",
    "These main hypotheses are classified into three distinct branches based on observable traits. The primary groupings are `Earth Origin` and `Space Origin`, with `Loonie` forming its own category. The `Earth Origin` branch includes the professional, tourist, and academic profiles, while the `Space Origin` branch further distinguishes between Mars Colonists and Belt Miners. The system uses intermediate concepts like `Professional`, `Tourist Behavior`, and `Academic` to connect initial observations to these final conclusions."
   ]
  },
  {
   "cell_type": "markdown",
   "id": "967c407e-12b0-44da-9c9c-8438a3725007",
   "metadata": {},
   "source": [
    "![GoalTree](./GoalTree.png)"
   ]
  },
  {
   "cell_type": "markdown",
   "id": "0938e3e4",
   "metadata": {
    "id": "0938e3e4"
   },
   "source": [
    "# Task 2\n",
    "The `rules` defines the connection between the intermediary facts and hypotheses and the initial facts. Each rule includes only two conditions and there is only one rule which is of type `OR`. The rest of the rules are of the `AND` type. It is important to mention one convention regarding the structure of each rule. All of the intermediary facts are placed as the first condition in each of the rules. It helps further with the `interactive traversal` of the goal tree."
   ]
  },
  {
   "cell_type": "code",
   "execution_count": 14,
   "id": "6b0859a4",
   "metadata": {
    "id": "6b0859a4"
   },
   "outputs": [],
   "source": [
    "from production import IF, AND, THEN, OR, DELETE, NOT, FAIL\n",
    "\n",
    "MY_RULES = (\n",
    "    IF( AND( '(?x) wears expensive suit',          # R1\n",
    "             '(?x) is tall' ),\n",
    "        THEN( '(?x) has Earth Origin' )),\n",
    "\n",
    "    IF( AND( '(?x) wears flashy gear',             # R2\n",
    "             '(?x) has awkward gait' ),\n",
    "        THEN( '(?x) has Earth Origin' )),\n",
    "\n",
    "    IF( AND( '(?x) wears earth casual',            # R3\n",
    "             '(?x) is tall' ),\n",
    "        THEN( '(?x) has Earth Origin' )),\n",
    "\n",
    "    IF( AND( '(?x) wears mars clothing',           # R4\n",
    "             '(?x) has awkward gait' ),\n",
    "        THEN( '(?x) has Space Origin' )),\n",
    "\n",
    "    IF( AND( '(?x) wears zero-g clothing',         # R5\n",
    "             '(?x) speaks belt slang' ),\n",
    "        THEN( '(?x) has Space Origin' )),\n",
    "\n",
    "    IF( AND( '(?x) speaks excited speech',         # R6\n",
    "             '(?x) takes photos' ),\n",
    "        THEN( '(?x) shows Tourist Behavior' )),\n",
    "\n",
    "    IF( AND( '(?x) has camera',                    # R7\n",
    "             '(?x) complains' ),\n",
    "        THEN( '(?x) shows Tourist Behavior' )),\n",
    "\n",
    "    IF( AND( '(?x) speaks corporate speech',       # R8\n",
    "             '(?x) has briefcase' ),\n",
    "        THEN( '(?x) is Professional' )),\n",
    "\n",
    "    IF( AND( '(?x) checks time',                   # R9\n",
    "             '(?x) wears expensive suit' ),\n",
    "        THEN( '(?x) is Professional' )),\n",
    "\n",
    "    IF( AND( '(?x) speaks academic speech',        # R10\n",
    "             '(?x) asks questions' ),\n",
    "        THEN( '(?x) is Academic' )),\n",
    "\n",
    "    IF( AND( '(?x) has datapad',                   # R11\n",
    "             '(?x) wears earth casual' ),\n",
    "        THEN( '(?x) is Academic' )),\n",
    "\n",
    "    IF( AND( '(?x) has Earth Origin',              # R12\n",
    "             '(?x) is Professional' ),\n",
    "        THEN( '(?x) is Earth Business Executive' )),\n",
    "\n",
    "    IF( AND( '(?x) has Earth Origin',              # R13\n",
    "             '(?x) shows Tourist Behavior' ),\n",
    "        THEN( '(?x) is Earth Adventure Tourist' )),\n",
    "\n",
    "    IF( AND( '(?x) has Earth Origin',              # R14\n",
    "             '(?x) is Academic' ),\n",
    "        THEN( '(?x) is Earth Academic' )),\n",
    "\n",
    "    IF( AND( '(?x) has Space Origin',              # R15\n",
    "             '(?x) asks questions' ),\n",
    "        THEN( '(?x) is Mars Colonist' )),\n",
    "\n",
    "    IF( AND( '(?x) has Space Origin',              # R16\n",
    "             '(?x) has mining tools' ),\n",
    "        THEN( '(?x) is Belt Miner' )),\n",
    "\n",
    "    IF( OR( '(?x) wears lunar clothing',           # R17\n",
    "            '(?x) speaks lunar dialect',\n",
    "            '(?x) has smooth gait',\n",
    "            '(?x) is short' ),\n",
    "        THEN( '(?x) is Loonie' )),\n",
    ")"
   ]
  },
  {
   "cell_type": "markdown",
   "id": "3f67a3d5",
   "metadata": {
    "id": "3f67a3d5"
   },
   "source": [
    "# Task 3  \n",
    "The primary algorithm required for implementing the expert system is `forward chaining`. Also referred to as forward deduction or forward reasoning, this method is used within an inference engine. Forward chaining begins with the initial facts stored in the knowledge base and systematically applies inference rules in a forward manner to derive new information until a specific goal is achieved.  \n",
    "\n",
    "The algorithm provided in the laboratory work instructions is relatively simple. It iterates through a set of rules, attempting to apply them to each fact in the given list until it reaches an intermediate fact or hypothesis. Below is a detailed output of the `forward_chain` method, illustrating how the algorithm progressively accumulates facts until the hypothesis is confirmed. Additionally, the output highlights the difference between the initial data set and the information obtained after executing forward chaining on the goal tree."
   ]
  },
  {
   "cell_type": "code",
   "execution_count": 7,
   "id": "046623ad",
   "metadata": {
    "id": "046623ad",
    "scrolled": true
   },
   "outputs": [
    {
     "name": "stdout",
     "output_type": "stream",
     "text": [
      "Rule: IF(AND('(?x) has Earth Origin', '(?x) is Professional'), THEN('(?x) is Earth Business Executive'))\n",
      "Added: tim is Earth Business Executive\n",
      "\n",
      "{'tim is Earth Business Executive'}\n"
     ]
    }
   ],
   "source": [
    "def forward_chain(rules, data, apply_only_one=False, verbose=False):\n",
    "    old_data = ()\n",
    "\n",
    "    while set(old_data) != set(data):\n",
    "        old_data = list(data)\n",
    "        for condition in rules:\n",
    "            data = condition.apply(data, apply_only_one, verbose)\n",
    "            if set(data) != set(old_data):\n",
    "                break\n",
    "\n",
    "    return data\n",
    "facts = ['tim has Earth Origin', 'tim is Professional']\n",
    "resulting_facts = forward_chain(MY_RULES, facts, verbose = True)\n",
    "print(f\"\\n{set(resulting_facts) - set(facts)}\")"
   ]
  },
  {
   "cell_type": "markdown",
   "id": "4aad1edc",
   "metadata": {},
   "source": [
    "# Task 4  \n",
    "Implement backward chaining to determine whether a given hypothesis can be inferred from a set of rules. This approach operates recursively, attempting to validate each condition required to establish the hypothesis.  \n",
    "\n",
    "**Parameters:**  \n",
    "- **rules (list):** A collection of rules that define the inference system.  \n",
    "- **hypothesis (str):** The target hypothesis or goal to be verified.  \n",
    "- **verbose (bool):** If set to `True`, displays detailed information about the backward chaining process.  \n",
    "\n",
    "**Returns:**  \n",
    "- **bool:** Returns `True` if the hypothesis can be derived, otherwise returns `False`.  "
   ]
  },
  {
   "cell_type": "code",
   "execution_count": 84,
   "id": "7ad195b6",
   "metadata": {},
   "outputs": [
    {
     "name": "stdout",
     "output_type": "stream",
     "text": [
      "[Trying Rule] IF(AND('(?x) speaks excited speech', '(?x) takes photos'), THEN('(?x) shows Tourist Behavior'))\n",
      "[Bindings] {'x': 'Mark'}\n",
      "[Antecedent] AND('(?x) speaks excited speech', '(?x) takes photos')\n",
      "[Leaf Accepted] No rules derive: Mark speaks excited speech\n",
      "[Leaf Accepted] No rules derive: Mark takes photos\n",
      "[Success] Derived Mark shows Tourist Behavior via rule IF(AND('(?x) speaks excited speech', '(?x) takes photos'), THEN('(?x) shows Tourist Behavior'))\n"
     ]
    },
    {
     "data": {
      "text/plain": [
       "True"
      ]
     },
     "execution_count": 84,
     "metadata": {},
     "output_type": "execute_result"
    }
   ],
   "source": [
    "def backward_chain(rules, hypothesis, verbose=False):\n",
    "    \"\"\"\n",
    "    Implement backward chaining to determine whether a given hypothesis can be inferred from a set of rules.\n",
    "\n",
    "    Parameters:\n",
    "    - rules (list): A collection of rules that define the inference system.\n",
    "    - hypothesis (str): The target hypothesis or goal to be verified.\n",
    "    - verbose (bool): If set to True, displays detailed information about the backward chaining process.\n",
    "\n",
    "    Returns:\n",
    "    - bool: Returns True if the hypothesis can be derived, otherwise returns False.\n",
    "    \"\"\"\n",
    "    def is_variable(token):\n",
    "        return token.startswith(\"(?\") and token.endswith(\")\")\n",
    "\n",
    "    def unify(statement1, statement2):\n",
    "        bindings = {}\n",
    "        tokens1 = statement1.split()\n",
    "        tokens2 = statement2.split()\n",
    "\n",
    "        if len(tokens1) != len(tokens2):\n",
    "            return None\n",
    "\n",
    "        for t1, t2 in zip(tokens1, tokens2):\n",
    "            if is_variable(t1):\n",
    "                var_name = t1[2:-1]\n",
    "                if var_name in bindings:\n",
    "                    if bindings[var_name] != t2:\n",
    "                        return None\n",
    "                else:\n",
    "                    bindings[var_name] = t2\n",
    "            elif t1 != t2:\n",
    "                return None\n",
    "\n",
    "        return bindings\n",
    "\n",
    "    def substitute(statement, bindings):\n",
    "        result = statement\n",
    "        for var, val in bindings.items():\n",
    "            result = result.replace(f\"(?{var})\", val)\n",
    "        return result\n",
    "\n",
    "    def evaluate_antecedents(antecedent, rules, bindings, visited, verbose):\n",
    "        if isinstance(antecedent, AND):\n",
    "            return all(backward_chain_internal(rules, substitute(clause, bindings), visited, verbose, inside_rule=True)\n",
    "                       for clause in antecedent)\n",
    "        elif isinstance(antecedent, OR):\n",
    "            return any(backward_chain_internal(rules, substitute(clause, bindings), visited, verbose, inside_rule=True)\n",
    "                       for clause in antecedent)\n",
    "        else:\n",
    "            return backward_chain_internal(rules, substitute(antecedent, bindings), visited, verbose, inside_rule=True)\n",
    "\n",
    "    def can_be_derived_by_rules(goal, rules):\n",
    "        for rule in rules:\n",
    "            conclusion = rule.consequent()[0]\n",
    "            if unify(conclusion, goal):\n",
    "                return True\n",
    "        return False\n",
    "\n",
    "    def backward_chain_internal(rules, hypothesis, visited, verbose, inside_rule):\n",
    "        if hypothesis in visited:\n",
    "            return False\n",
    "        visited.add(hypothesis)\n",
    "\n",
    "        for rule in rules:\n",
    "            conclusion = rule.consequent()[0]\n",
    "            bindings = unify(conclusion, hypothesis)\n",
    "            if bindings is not None:\n",
    "                antecedents = rule.antecedent()\n",
    "                if verbose:\n",
    "                    print(f\"[Trying Rule] {rule}\")\n",
    "                    print(f\"[Bindings] {bindings}\")\n",
    "                    print(f\"[Antecedent] {antecedents}\")\n",
    "                if evaluate_antecedents(antecedents, rules, bindings, visited, verbose):\n",
    "                    if verbose:\n",
    "                        print(f\"[Success] Derived {hypothesis} via rule {rule}\")\n",
    "                    return True\n",
    "                elif verbose:\n",
    "                    print(f\"[Fail] Could not verify antecedents for {hypothesis}\")\n",
    "\n",
    "        # Leaf fallback: only if we're *inside* a derivation path\n",
    "        if inside_rule and not can_be_derived_by_rules(hypothesis, rules):\n",
    "            if verbose:\n",
    "                print(f\"[Leaf Accepted] No rules derive: {hypothesis}\")\n",
    "            return True\n",
    "\n",
    "        return False\n",
    "\n",
    "    return backward_chain_internal(rules, hypothesis, visited=set(), verbose=verbose, inside_rule=False)\n",
    "\n",
    "hypothesis = \"Mark shows Tourist Behavior\"\n",
    "backward_chain(MY_RULES, hypothesis, verbose=True)"
   ]
  },
  {
   "cell_type": "markdown",
   "id": "68faa72b",
   "metadata": {},
   "source": [
    "# Task 5  \n",
    "The system features a mechanism for posing random questions to collect facts from the user. This step is integral to the forward chaining process, allowing the system to construct a knowledge base before applying inference rules."
   ]
  },
  {
   "cell_type": "code",
   "execution_count": 85,
   "id": "adaca239",
   "metadata": {},
   "outputs": [
    {
     "name": "stdout",
     "output_type": "stream",
     "text": [
      "Welcome to the Expert System.\n"
     ]
    },
    {
     "name": "stdin",
     "output_type": "stream",
     "text": [
      "\n",
      "Select mode:\n",
      "  1) Forward Chaining\n",
      "  2) Backward Chaining\n",
      "  3) Exit\n",
      "Enter choice (1/2/3):  3\n"
     ]
    },
    {
     "name": "stdout",
     "output_type": "stream",
     "text": [
      "Goodbye!\n"
     ]
    }
   ],
   "source": [
    "import sys\n",
    "from production import forward_chain, backward_chain, IF, AND, OR, NOT\n",
    "from rules import MY_RULES\n",
    "\n",
    "class Question:\n",
    "    def __init__(self, prompt, var, qtype=\"yesno\", options=None):\n",
    "        self.prompt = prompt\n",
    "        self.var = var\n",
    "        self.qtype = qtype\n",
    "        self.options = options or []\n",
    "\n",
    "    def ask(self):\n",
    "        if self.qtype == \"yesno\":\n",
    "            while True:\n",
    "                ans = input(f\"{self.prompt} (yes/no): \").strip().lower()\n",
    "                if ans in (\"yes\", \"y\"):\n",
    "                    return True\n",
    "                elif ans in (\"no\", \"n\"):\n",
    "                    return False\n",
    "                print(\"Please answer yes or no.\")\n",
    "        elif self.qtype == \"multiple\":\n",
    "            print(self.prompt)\n",
    "            for i, opt in enumerate(self.options, 1):\n",
    "                print(f\"  {i}) {opt}\")\n",
    "            while True:\n",
    "                ans = input(f\"Choose 1-{len(self.options)}: \").strip()\n",
    "                if ans.isdigit():\n",
    "                    idx = int(ans) - 1\n",
    "                    if 0 <= idx < len(self.options):\n",
    "                        return self.options[idx]\n",
    "                print(\"Invalid choice.\")\n",
    "        elif self.qtype == \"input\":\n",
    "            ans = input(f\"{self.prompt}: \").strip()\n",
    "            return ans\n",
    "        else:\n",
    "            raise ValueError(f\"Unknown question type: {self.qtype}\")\n",
    "\n",
    "class ExpertSystem:\n",
    "    def __init__(self, rules):\n",
    "        self.rules = rules\n",
    "        self.facts = set()\n",
    "        self.asked_vars = set()\n",
    "\n",
    "    def add_fact(self, fact):\n",
    "        if fact not in self.facts:\n",
    "            print(f\"[New fact added]: {fact}\")\n",
    "            self.facts.add(fact)\n",
    "\n",
    "    def ask_questions(self, questions):\n",
    "        for q in questions:\n",
    "            if q.var in self.asked_vars:\n",
    "                continue\n",
    "            ans = q.ask()\n",
    "            self.asked_vars.add(q.var)\n",
    "            if q.qtype == \"yesno\":\n",
    "                if ans:\n",
    "                    self.add_fact(f\"(?x) {q.var}\")\n",
    "            elif q.qtype == \"multiple\":\n",
    "                self.add_fact(f\"(?x) {q.var} {ans}\")\n",
    "            elif q.qtype == \"input\":\n",
    "                self.add_fact(f\"(?x) {q.var} {ans}\")\n",
    "\n",
    "    def run_forward(self):\n",
    "        old_facts = None\n",
    "        current_facts = tuple(self.facts)\n",
    "        while old_facts != current_facts:\n",
    "            old_facts = current_facts\n",
    "            current_facts = forward_chain(self.rules, current_facts)\n",
    "        self.facts = set(current_facts)\n",
    "\n",
    "    def run_backward(self, hypothesis, verbose=False):\n",
    "        # The backward chaining here expects the full hypothesis string\n",
    "        return backward_chain(self.rules, hypothesis, verbose)\n",
    "\n",
    "    def forward_mode(self):\n",
    "        questions = [\n",
    "            Question(\"Does the person wear an expensive suit?\", \"wears expensive suit\", \"yesno\"),\n",
    "            Question(\"Does the person wear flashy gear?\", \"wears flashy gear\", \"yesno\"),\n",
    "            Question(\"Does the person wear earth casual?\", \"wears earth casual\", \"yesno\"),\n",
    "            Question(\"Does the person wear mars clothing?\", \"wears mars clothing\", \"yesno\"),\n",
    "            Question(\"Does the person wear zero-g clothing?\", \"wears zero-g clothing\", \"yesno\"),\n",
    "            Question(\"What kind of speech does the person speak?\", \"speaks\", \"multiple\",\n",
    "                     [\"belt slang\", \"excited speech\", \"corporate speech\", \"academic speech\", \"lunar dialect\"]),\n",
    "            Question(\"Does the person have a camera?\", \"has camera\", \"yesno\"),\n",
    "            Question(\"Does the person complain?\", \"complains\", \"yesno\"),\n",
    "            Question(\"Does the person have a datapad?\", \"has datapad\", \"yesno\"),\n",
    "            Question(\"Does the person have mining tools?\", \"has mining tools\", \"yesno\"),\n",
    "            Question(\"Does the person have a briefcase?\", \"has briefcase\", \"yesno\"),\n",
    "            Question(\"Does the person check time frequently?\", \"checks time\", \"yesno\"),\n",
    "            Question(\"Does the person ask questions?\", \"asks questions\", \"yesno\"),\n",
    "            Question(\"Does the person have awkward gait?\", \"has awkward gait\", \"yesno\"),\n",
    "            Question(\"Does the person have smooth gait?\", \"has smooth gait\", \"yesno\"),\n",
    "            Question(\"Is the person tall?\", \"is tall\", \"yesno\"),\n",
    "            Question(\"Is the person short?\", \"is short\", \"yesno\"),\n",
    "        ]\n",
    "\n",
    "        print(\"\\nForward Chaining Mode: Please answer the following questions:\\n\")\n",
    "        self.ask_questions(questions)\n",
    "\n",
    "        print(\"\\nRunning forward chaining inference...\")\n",
    "        self.run_forward()\n",
    "\n",
    "        print(\"\\nAll inferred facts:\")\n",
    "        for fact in sorted(self.facts):\n",
    "            print(\" -\", fact)\n",
    "\n",
    "    def backward_mode(self):\n",
    "        print(\"\\nBackward Chaining Mode\")\n",
    "        goal = input(\"Enter a hypothesis/goal to test (e.g. '(?x) has Earth Origin'): \").strip()\n",
    "\n",
    "        print(f\"\\nAttempting to prove: {goal}\")\n",
    "\n",
    "        # For backward chaining, we simulate a questioning strategy:\n",
    "        # We will ask questions to establish facts necessary to prove the goal.\n",
    "        # Here, for demo, just ask all questions and run backward chaining on final facts.\n",
    "\n",
    "        questions = [\n",
    "            Question(\"Does the person wear an expensive suit?\", \"wears expensive suit\", \"yesno\"),\n",
    "            Question(\"Does the person wear flashy gear?\", \"wears flashy gear\", \"yesno\"),\n",
    "            Question(\"Does the person wear earth casual?\", \"wears earth casual\", \"yesno\"),\n",
    "            Question(\"Does the person wear mars clothing?\", \"wears mars clothing\", \"yesno\"),\n",
    "            Question(\"Does the person wear zero-g clothing?\", \"wears zero-g clothing\", \"yesno\"),\n",
    "            Question(\"What kind of speech does the person speak?\", \"speaks\", \"multiple\",\n",
    "                     [\"belt slang\", \"excited speech\", \"corporate speech\", \"academic speech\", \"lunar dialect\"]),\n",
    "            Question(\"Does the person have a camera?\", \"has camera\", \"yesno\"),\n",
    "            Question(\"Does the person complain?\", \"complains\", \"yesno\"),\n",
    "            Question(\"Does the person have a datapad?\", \"has datapad\", \"yesno\"),\n",
    "            Question(\"Does the person have mining tools?\", \"has mining tools\", \"yesno\"),\n",
    "            Question(\"Does the person have a briefcase?\", \"has briefcase\", \"yesno\"),\n",
    "            Question(\"Does the person check time frequently?\", \"checks time\", \"yesno\"),\n",
    "            Question(\"Does the person ask questions?\", \"asks questions\", \"yesno\"),\n",
    "            Question(\"Does the person have awkward gait?\", \"has awkward gait\", \"yesno\"),\n",
    "            Question(\"Does the person have smooth gait?\", \"has smooth gait\", \"yesno\"),\n",
    "            Question(\"Is the person tall?\", \"is tall\", \"yesno\"),\n",
    "            Question(\"Is the person short?\", \"is short\", \"yesno\"),\n",
    "        ]\n",
    "\n",
    "        # For simplicity, ask all questions (to simulate needed data)\n",
    "        self.ask_questions(questions)\n",
    "\n",
    "        # Now check hypothesis\n",
    "        result = self.run_backward(goal, verbose=True)\n",
    "\n",
    "        print(f\"\\nResult: The hypothesis '{goal}' is\", \"TRUE\" if result else \"FALSE\")\n",
    "\n",
    "    def interactive_loop(self):\n",
    "        print(\"Welcome to the Expert System.\")\n",
    "        while True:\n",
    "            mode = input(\"\\nSelect mode:\\n  1) Forward Chaining\\n  2) Backward Chaining\\n  3) Exit\\nEnter choice (1/2/3): \").strip()\n",
    "            if mode == \"1\":\n",
    "                self.forward_mode()\n",
    "            elif mode == \"2\":\n",
    "                self.backward_mode()\n",
    "            elif mode == \"3\":\n",
    "                print(\"Goodbye!\")\n",
    "                break\n",
    "            else:\n",
    "                print(\"Invalid choice, please select 1, 2, or 3.\")\n",
    "\n",
    "def main():\n",
    "    system = ExpertSystem(MY_RULES)\n",
    "    system.interactive_loop()\n",
    "\n",
    "if __name__ == \"__main__\":\n",
    "    main()"
   ]
  },
  {
   "cell_type": "markdown",
   "id": "0e29d59a",
   "metadata": {
    "id": "0e29d59a"
   },
   "source": [
    "# Conclusions:\n",
    "In this lab, I studied the basics of expert systems in artificial intelligence, focusing on forward and backward chaining algorithms. I applied these concepts by building an interactive expert system. The development process was iterative, although a recursive approach could have been employed instead. I believe that recursion might offer greater efficiency by reducing redundant checks. Furthermore, my current implementation does not use backward chaining for interactive questioning, but integrating it could provide an additional optimization opportunity."
   ]
  },
  {
   "cell_type": "markdown",
   "id": "zwGzGeqmzU-l",
   "metadata": {
    "id": "zwGzGeqmzU-l"
   },
   "source": [
    "# Bibliography:"
   ]
  },
  {
   "cell_type": "markdown",
   "id": "5DrArOXRzWet",
   "metadata": {
    "id": "5DrArOXRzWet"
   },
   "source": [
    "1) https://www.javatpoint.com/forward-chaining-and-backward-chaining-in-ai\n",
    "2) https://towardsdatascience.com/are-expert-systems-dead-87c8d6c26474"
   ]
  }
 ],
 "metadata": {
  "colab": {
   "provenance": []
  },
  "kernelspec": {
   "display_name": "Python 3 (ipykernel)",
   "language": "python",
   "name": "python3"
  },
  "language_info": {
   "codemirror_mode": {
    "name": "ipython",
    "version": 3
   },
   "file_extension": ".py",
   "mimetype": "text/x-python",
   "name": "python",
   "nbconvert_exporter": "python",
   "pygments_lexer": "ipython3",
   "version": "3.12.10"
  },
  "toc": {
   "base_numbering": 1,
   "nav_menu": {},
   "number_sections": true,
   "sideBar": true,
   "skip_h1_title": false,
   "title_cell": "Table of Contents",
   "title_sidebar": "Contents",
   "toc_cell": false,
   "toc_position": {},
   "toc_section_display": true,
   "toc_window_display": false
  }
 },
 "nbformat": 4,
 "nbformat_minor": 5
}
