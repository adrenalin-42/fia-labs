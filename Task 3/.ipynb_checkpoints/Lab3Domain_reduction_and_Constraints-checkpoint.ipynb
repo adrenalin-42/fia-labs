{
 "cells": [
  {
   "cell_type": "markdown",
   "id": "7d252a8d",
   "metadata": {
    "id": "7d252a8d"
   },
   "source": [
    "***FCIM.FIA - Fundamentals of Artificial Intelligence***\n",
    "\n",
    "> **Lab 3:** *Domain reduction and Constraints* \\\n",
    "> **Performed by:** *Dumitru Moraru*, group *FAF-212* \\\n",
    "> **Verified by:** Elena Graur, asist. univ."
   ]
  },
  {
   "cell_type": "markdown",
   "id": "BPiGwyyGNsHh",
   "metadata": {
    "id": "BPiGwyyGNsHh"
   },
   "source": [
    "Imports and Utils"
   ]
  },
  {
   "cell_type": "code",
   "execution_count": null,
   "id": "533fd9fa",
   "metadata": {
    "ExecuteTime": {
     "end_time": "2022-01-23T09:47:05.838671Z",
     "start_time": "2022-01-23T09:47:05.834860Z"
    },
    "id": "533fd9fa"
   },
   "outputs": [],
   "source": [
    "import copy\n",
    "import random\n",
    "import networkx as nx\n",
    "import matplotlib.pyplot as plt"
   ]
  },
  {
   "cell_type": "markdown",
   "id": "7146ed9b",
   "metadata": {
    "id": "7146ed9b"
   },
   "source": [
    "# Core Problem Representation\n",
    "\n",
    "* **Variables:** Each Orbital Gate is a variable. Let's say we have gates $\\{G_1, G_2, G_3, ..., G_n\\}$.\n",
    "* **Domains:** The domain for each gate is the set of all available time slots. Let's call the set of time slots $T = \\{TS_1, TS_2, TS_3, ..., TS_m\\}$. Initially, every gate has the same domain $T$.\n",
    "* **Constraints:** The core rule is that if two gates, $G_i$ and $G_j$, are linked, they cannot be assigned the same time slot. Formally, if `IsLinked(Gi, Gj)`, then their assigned time slots must be different: $Time(G_i) \\neq Time(G_j)$.\n",
    "\n",
    "This structure is equivalent to a famous problem called the **Graph Coloring Problem**, where the gates are the vertices of a graph, the links are the edges, and the time slots are the \"colors\" we need to assign."
   ]
  },
  {
   "cell_type": "code",
   "execution_count": null,
   "id": "1c08cab6",
   "metadata": {},
   "outputs": [],
   "source": [
    "class CSP:\n",
    "    \"\"\"\n",
    "    A class to represent a Constraint Satisfaction Problem.\n",
    "    \"\"\"\n",
    "    def __init__(self, variables, domains, constraints):\n",
    "        self.variables = variables\n",
    "        self.domains = domains\n",
    "        self.constraints = constraints\n",
    "\n",
    "    def is_consistent(self, variable, value, assignment):\n",
    "        \"\"\"\n",
    "        Check if a given assignment is consistent with the constraints.\n",
    "        \"\"\"\n",
    "        for neighbor in self.constraints.get(variable, []):\n",
    "            if neighbor in assignment and assignment[neighbor] == value:\n",
    "                return False\n",
    "        return True"
   ]
  },
  {
   "cell_type": "markdown",
   "id": "c0b08ea7",
   "metadata": {},
   "source": [
    "Defines a generic and reusable blueprint for a Constraint Satisfaction Problem. It abstracts the structure of the problem (variables, domains, constraints) away from the algorithm that solves it. This allows the same solver engine to be used for different problems just by changing the input."
   ]
  },
  {
   "cell_type": "markdown",
   "id": "0938e3e4",
   "metadata": {
    "id": "0938e3e4"
   },
   "source": [
    "# The Solver Engine\n",
    "It uses a recursive backtracking algorithm enhanced with heuristics to find a solution efficiently."
   ]
  },
  {
   "cell_type": "code",
   "execution_count": null,
   "id": "6b0859a4",
   "metadata": {
    "id": "6b0859a4"
   },
   "outputs": [],
   "source": [
    "def select_unassigned_variable(variables, assignment, domains):\n",
    "    \"\"\"\n",
    "    Selects the next variable to assign using the Minimum Remaining Values (MRV) heuristic.\n",
    "    \"\"\"\n",
    "    unassigned_vars = [var for var in variables if var not in assignment]\n",
    "    return min(unassigned_vars, key=lambda var: len(domains[var]))\n",
    "\n",
    "def backtrack(assignment, csp):\n",
    "    \"\"\"\n",
    "    The core recursive backtracking algorithm with forward checking.\n",
    "    \"\"\"\n",
    "    if len(assignment) == len(csp.variables):\n",
    "        return assignment\n",
    "\n",
    "    var = select_unassigned_variable(csp.variables, assignment, csp.domains)\n",
    "    local_domains = copy.deepcopy(csp.domains) # Use a copy for iteration\n",
    "\n",
    "    for value in local_domains[var]:\n",
    "        if csp.is_consistent(var, value, assignment):\n",
    "            assignment[var] = value\n",
    "            # Forward checking: temporarily remove value from neighbors' domains\n",
    "            pruned = {neighbor: [] for neighbor in csp.constraints[var]}\n",
    "            for neighbor in csp.constraints.get(var, []):\n",
    "                if neighbor not in assignment and value in csp.domains[neighbor]:\n",
    "                    csp.domains[neighbor].remove(value)\n",
    "                    pruned[neighbor].append(value)\n",
    "            \n",
    "            result = backtrack(assignment, csp)\n",
    "            if result is not None:\n",
    "                return result\n",
    "\n",
    "            # Backtrack: undo assignment and restore pruned domains\n",
    "            del assignment[var]\n",
    "            for neighbor, values in pruned.items():\n",
    "                csp.domains[neighbor].extend(values)\n",
    "    return None\n",
    "\n",
    "def backtracking_search(csp):\n",
    "    \"\"\"Initiates the backtracking search.\"\"\"\n",
    "    return backtrack({}, csp)"
   ]
  },
  {
   "cell_type": "markdown",
   "id": "9ba2f6ed",
   "metadata": {},
   "source": [
    "Explanation\n",
    "-   **`backtracking_search(csp)`**: A simple \"starter\" function that initializes an empty assignment and calls the main recursive `backtrack` function.\n",
    "-   **`select_unassigned_variable(...)`**: This helper function implements a crucial heuristic called **Minimum Remaining Values (MRV)**. Instead of picking the next gate randomly, it intelligently selects the _most constrained_ variable—the one with the fewest available time slots left in its domain. This strategy helps to identify dead-ends much faster, significantly pruning the search tree.\n",
    "-   **`backtrack(assignment, csp)`**: The core recursive function. For a given partial assignment, it performs these steps:\n",
    "    1.  **Base Case:** If the assignment is complete (all gates have a time slot), a solution has been found, and it is returned.\n",
    "    2.  **Variable Selection:** It calls `select_unassigned_variable` to pick the next gate to assign.\n",
    "    3.  **Value Iteration:** It loops through each possible `value` (time slot) in the chosen variable's domain.\n",
    "    4.  **Forward Checking:** If the value is consistent, it’s tentatively assigned. Then, this value is _temporarily removed_ from the domains of all neighboring (linked) gates. This propagation of constraints is a key optimization.\n",
    "    5.  **Recursion:** It calls itself (`backtrack`) to solve the rest of the problem with the newly reduced domains.\n",
    "    6.  **Backtracking:** If the recursive call fails to find a solution (returns `None`), it means the tentative assignment was a dead end. The function then **undoes** the assignment and restores the domains of the neighbors to their previous state, trying the next value in the loop."
   ]
  },
  {
   "cell_type": "markdown",
   "id": "3f67a3d5",
   "metadata": {
    "id": "3f67a3d5"
   },
   "source": [
    "# Random Problem Generation\n",
    "Instead of solving the same static puzzle every time, this function generates a different network of gate links on each run."
   ]
  },
  {
   "cell_type": "code",
   "execution_count": null,
   "id": "046623ad",
   "metadata": {
    "id": "046623ad"
   },
   "outputs": [],
   "source": [
    "def generate_random_links(variables, num_links):\n",
    "    \"\"\"\n",
    "    Generates a random set of constraints (links) for the given variables.\n",
    "    \"\"\"\n",
    "    links = {var: [] for var in variables}\n",
    "    possible_pairs = []\n",
    "    for i in range(len(variables)):\n",
    "        for j in range(i + 1, len(variables)):\n",
    "            possible_pairs.append((variables[i], variables[j]))\n",
    "            \n",
    "    random.shuffle(possible_pairs)\n",
    "    \n",
    "    for i in range(min(num_links, len(possible_pairs))):\n",
    "        u, v = possible_pairs[i]\n",
    "        links[u].append(v)\n",
    "        links[v].append(u)\n",
    "        \n",
    "    return links"
   ]
  },
  {
   "cell_type": "markdown",
   "id": "49c1a2f7",
   "metadata": {},
   "source": [
    "-   The `generate_random_links` function takes the list of gates and a target number of links as input.\n",
    "-   It first creates a list of all possible unique pairs of gates.\n",
    "-   It then shuffles this list randomly.\n",
    "-   Finally, it picks the top `num_links` pairs from the shuffled list and builds the `links` dictionary, ensuring each connection is recorded symmetrically (from A to B and B to A)."
   ]
  },
  {
   "cell_type": "markdown",
   "id": "6137588a",
   "metadata": {},
   "source": [
    "# Results Visualization\n",
    "Responsible for taking the final schedule and presenting it as a clear, easy-to-read graph."
   ]
  },
  {
   "cell_type": "code",
   "execution_count": null,
   "id": "89064d27",
   "metadata": {},
   "outputs": [],
   "source": [
    "def visualize_schedule(solution, constraints):\n",
    "    \"\"\"\n",
    "    Creates and displays a graph visualization of the scheduled gate network.\n",
    "    \"\"\"\n",
    "    G = nx.Graph()\n",
    "    color_map = {'Red': '#ff6347', 'Green': '#90ee90', 'Blue': '#87ceeb'}\n",
    "    \n",
    "    for node, neighbors in constraints.items():\n",
    "        for neighbor in neighbors:\n",
    "            G.add_edge(node, neighbor)\n",
    "    for node in solution.keys():\n",
    "        if node not in G.nodes(): G.add_node(node)\n",
    "            \n",
    "    node_colors = [color_map.get(solution.get(node), 'grey') for node in G.nodes()]\n",
    "\n",
    "    pos = nx.spring_layout(G, seed=42, k=0.9)\n",
    "    plt.figure(figsize=(12, 8))\n",
    "    nx.draw(G, pos, labels={n: n.split(':')[0] for n in G.nodes()}, with_labels=True, \n",
    "            node_color=node_colors, node_size=3500, font_size=11, font_weight='bold', \n",
    "            edge_color='gray', width=1.5, alpha=0.9)\n",
    "    \n",
    "    plt.title(\"Lunar Council's Orbital Gate Network Schedule\", size=18)\n",
    "    # ... (code for legend creation)\n",
    "    plt.show()"
   ]
  },
  {
   "cell_type": "markdown",
   "id": "bdf8bdd9",
   "metadata": {},
   "source": [
    "-   The `visualize_schedule` function uses the `networkx` and `matplotlib` libraries.\n",
    "-   It creates a `networkx` graph object from the solution and the link constraints.\n",
    "-   It defines a color map to associate time slot names ('Red', 'Green', etc.) with specific plot colors.\n",
    "-   It draws the graph, where:\n",
    "    -   Each gate is a **node**.\n",
    "    -   Each link is an **edge** connecting two nodes.\n",
    "    -   The **color** of each node corresponds to its assigned time slot.\n",
    "-   Finally, it adds a title and a legend to make the plot self-explanatory. This provides instant visual confirmation that the solution is valid (i.e., no two connected nodes have the same color)."
   ]
  },
  {
   "cell_type": "markdown",
   "id": "2aca4e07",
   "metadata": {},
   "source": [
    "# Main Execution Block\n",
    "Sets the initial parameters and calls the functions from the other parts in the correct sequence to produce a result."
   ]
  },
  {
   "cell_type": "code",
   "execution_count": null,
   "id": "e4cd1923",
   "metadata": {},
   "outputs": [],
   "source": [
    "if __name__ == \"__main__\":\n",
    "    print(\"Launching the Lunar Council's Orbital Gate Scheduler...\\n\")\n",
    "\n",
    "    # 1. Define Parameters\n",
    "    gates = ['G1: Command Center', 'G2: Hydroponics', 'G3: Engineering', 'G4: Habitation', 'G5: Landing Pad']\n",
    "    time_slots = ['Red', 'Green', 'Blue']\n",
    "    gate_domains = {gate: list(time_slots) for gate in gates}\n",
    "\n",
    "    # 2. Generate Problem Instance\n",
    "    num_random_links = 7 \n",
    "    print(f\"Generating a random network with {num_random_links} links...\")\n",
    "    links = generate_random_links(gates, num_random_links)\n",
    "\n",
    "    # 3. Create CSP Object\n",
    "    lunar_csp = CSP(gates, gate_domains, links)\n",
    "\n",
    "    # 4. Solve the Problem\n",
    "    solution = backtracking_search(lunar_csp)\n",
    "\n",
    "    # 5. Report Results\n",
    "    if solution:\n",
    "        print(\"Conflict-free schedule found!\\n\")\n",
    "        # ... (code for printing table)\n",
    "        print(\"\\nGenerating visual representation...\")\n",
    "        visualize_schedule(solution, links)\n",
    "    else:\n",
    "        print(f\"No conflict-free schedule could be found...\")"
   ]
  },
  {
   "cell_type": "markdown",
   "id": "aad6d309",
   "metadata": {},
   "source": [
    "1.  **Define Parameters:** It sets up the list of `gates` and available `time_slots`.\n",
    "2.  **Generate Problem:** It calls `generate_random_links` (Sector 3) to create the network for this specific run.\n",
    "3.  **Instantiate CSP:** It creates an instance of the `CSP` class (Sector 1) using the gates, domains, and newly generated links.\n",
    "4.  **Solve:** It calls `backtracking_search` (Sector 2) to find a solution.\n",
    "5.  **Report Results:** It checks if a solution was returned.\n",
    "    -   If **successful**, it prints the schedule in a formatted table and then calls `visualize_schedule` (Sector 4) to display the graph.\n",
    "    -   If **unsuccessful**, it prints a clear message indicating that no solution could be found for that specific random network."
   ]
  },
  {
   "cell_type": "markdown",
   "id": "0e29d59a",
   "metadata": {
    "id": "0e29d59a"
   },
   "source": [
    "# Conclusions:\n",
    "This project successfully delivered an automated scheduling system for the Orbital Gate Network. By modeling the challenge as a Constraint Satisfaction Problem and using an intelligent backtracking algorithm, the system efficiently generates a valid, conflict-free schedule.\n",
    "\n",
    "The final design is highly flexible, capable of solving any network configuration, and presents the solution as an intuitive, color-coded graph for immediate visual verification. Ultimately, this provides the Lunar Council with a robust and reliable tool to ensure the safe and efficient operation of its vital infrastructure, establishing a strong foundation for future logistical optimizations."
   ]
  },
  {
   "cell_type": "markdown",
   "id": "zwGzGeqmzU-l",
   "metadata": {
    "id": "zwGzGeqmzU-l"
   },
   "source": [
    "# Bibliography:"
   ]
  },
  {
   "cell_type": "markdown",
   "id": "5DrArOXRzWet",
   "metadata": {
    "id": "5DrArOXRzWet"
   },
   "source": [
    "1) https://en.wikipedia.org/wiki/Constraint_satisfaction_problem\n",
    "2) https://www.geeksforgeeks.org/introduction-to-backtracking-data-structure-and-algorithm-tutorials/\n",
    "3) https://en.wikipedia.org/wiki/Graph_coloring\n",
    "4) https://networkx.org/\n",
    "5) https://matplotlib.org/"
   ]
  }
 ],
 "metadata": {
  "colab": {
   "provenance": []
  },
  "kernelspec": {
   "display_name": "Python 3 (ipykernel)",
   "language": "python",
   "name": "python3"
  },
  "language_info": {
   "codemirror_mode": {
    "name": "ipython",
    "version": 3
   },
   "file_extension": ".py",
   "mimetype": "text/x-python",
   "name": "python",
   "nbconvert_exporter": "python",
   "pygments_lexer": "ipython3",
   "version": "3.12.10"
  },
  "toc": {
   "base_numbering": 1,
   "nav_menu": {},
   "number_sections": true,
   "sideBar": true,
   "skip_h1_title": false,
   "title_cell": "Table of Contents",
   "title_sidebar": "Contents",
   "toc_cell": false,
   "toc_position": {},
   "toc_section_display": true,
   "toc_window_display": false
  }
 },
 "nbformat": 4,
 "nbformat_minor": 5
}
